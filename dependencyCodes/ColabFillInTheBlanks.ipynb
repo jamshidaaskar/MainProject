{
  "nbformat": 4,
  "nbformat_minor": 0,
  "metadata": {
    "colab": {
      "name": "Untitled15.ipynb",
      "provenance": [],
      "collapsed_sections": [],
      "toc_visible": true
    },
    "kernelspec": {
      "name": "python3",
      "display_name": "Python 3"
    }
  },
  "cells": [
    {
      "cell_type": "code",
      "metadata": {
        "id": "uw1HBrKcw9yd",
        "colab_type": "code",
        "outputId": "e476258c-09fb-4de5-8121-f3990dc4f32c",
        "colab": {
          "base_uri": "https://localhost:8080/",
          "height": 118
        }
      },
      "source": [
        "from google.colab import drive\n",
        "drive.mount('/content/drive')"
      ],
      "execution_count": 1,
      "outputs": [
        {
          "output_type": "stream",
          "text": [
            "Go to this URL in a browser: https://accounts.google.com/o/oauth2/auth?client_id=947318989803-6bn6qk8qdgf4n4g3pfee6491hc0brc4i.apps.googleusercontent.com&redirect_uri=urn%3aietf%3awg%3aoauth%3a2.0%3aoob&response_type=code&scope=email%20https%3a%2f%2fwww.googleapis.com%2fauth%2fdocs.test%20https%3a%2f%2fwww.googleapis.com%2fauth%2fdrive%20https%3a%2f%2fwww.googleapis.com%2fauth%2fdrive.photos.readonly%20https%3a%2f%2fwww.googleapis.com%2fauth%2fpeopleapi.readonly\n",
            "\n",
            "Enter your authorization code:\n",
            "··········\n",
            "Mounted at /content/drive\n"
          ],
          "name": "stdout"
        }
      ]
    },
    {
      "cell_type": "code",
      "metadata": {
        "id": "Y-GcBYLArlO2",
        "colab_type": "code",
        "outputId": "8ddbf6f3-8470-4ae5-c3cb-d7fdec410d1b",
        "colab": {
          "base_uri": "https://localhost:8080/",
          "height": 66
        }
      },
      "source": [
        "import nltk\n",
        "nltk.download('punkt')"
      ],
      "execution_count": 3,
      "outputs": [
        {
          "output_type": "stream",
          "text": [
            "[nltk_data] Downloading package punkt to /root/nltk_data...\n",
            "[nltk_data]   Unzipping tokenizers/punkt.zip.\n"
          ],
          "name": "stdout"
        },
        {
          "output_type": "execute_result",
          "data": {
            "text/plain": [
              "True"
            ]
          },
          "metadata": {
            "tags": []
          },
          "execution_count": 3
        }
      ]
    },
    {
      "cell_type": "code",
      "metadata": {
        "id": "VBW4rQ5Ep6yG",
        "colab_type": "code",
        "colab": {
          "base_uri": "https://localhost:8080/",
          "height": 261
        },
        "outputId": "9c45ca14-f9f0-40a8-8eb0-f72c3d4ac032"
      },
      "source": [
        "!pip install flask-ngrok"
      ],
      "execution_count": 5,
      "outputs": [
        {
          "output_type": "stream",
          "text": [
            "Collecting flask-ngrok\n",
            "  Downloading https://files.pythonhosted.org/packages/af/6c/f54cb686ad1129e27d125d182f90f52b32f284e6c8df58c1bae54fa1adbc/flask_ngrok-0.0.25-py3-none-any.whl\n",
            "Requirement already satisfied: Flask>=0.8 in /usr/local/lib/python3.6/dist-packages (from flask-ngrok) (1.1.2)\n",
            "Requirement already satisfied: requests in /usr/local/lib/python3.6/dist-packages (from flask-ngrok) (2.23.0)\n",
            "Requirement already satisfied: Jinja2>=2.10.1 in /usr/local/lib/python3.6/dist-packages (from Flask>=0.8->flask-ngrok) (2.11.2)\n",
            "Requirement already satisfied: Werkzeug>=0.15 in /usr/local/lib/python3.6/dist-packages (from Flask>=0.8->flask-ngrok) (1.0.1)\n",
            "Requirement already satisfied: itsdangerous>=0.24 in /usr/local/lib/python3.6/dist-packages (from Flask>=0.8->flask-ngrok) (1.1.0)\n",
            "Requirement already satisfied: click>=5.1 in /usr/local/lib/python3.6/dist-packages (from Flask>=0.8->flask-ngrok) (7.1.2)\n",
            "Requirement already satisfied: chardet<4,>=3.0.2 in /usr/local/lib/python3.6/dist-packages (from requests->flask-ngrok) (3.0.4)\n",
            "Requirement already satisfied: certifi>=2017.4.17 in /usr/local/lib/python3.6/dist-packages (from requests->flask-ngrok) (2020.4.5.1)\n",
            "Requirement already satisfied: idna<3,>=2.5 in /usr/local/lib/python3.6/dist-packages (from requests->flask-ngrok) (2.9)\n",
            "Requirement already satisfied: urllib3!=1.25.0,!=1.25.1,<1.26,>=1.21.1 in /usr/local/lib/python3.6/dist-packages (from requests->flask-ngrok) (1.24.3)\n",
            "Requirement already satisfied: MarkupSafe>=0.23 in /usr/local/lib/python3.6/dist-packages (from Jinja2>=2.10.1->Flask>=0.8->flask-ngrok) (1.1.1)\n",
            "Installing collected packages: flask-ngrok\n",
            "Successfully installed flask-ngrok-0.0.25\n"
          ],
          "name": "stdout"
        }
      ]
    },
    {
      "cell_type": "code",
      "metadata": {
        "id": "DCyBCH0Lklt-",
        "colab_type": "code",
        "colab": {
          "base_uri": "https://localhost:8080/",
          "height": 115
        },
        "outputId": "e8a7434f-6bec-4fb4-9786-5e03c814e49c"
      },
      "source": [
        "!git clone https://gist.github.com/c8581a9f2627c6b0895ced195466ad62.git\n"
      ],
      "execution_count": 7,
      "outputs": [
        {
          "output_type": "stream",
          "text": [
            "Cloning into 'c8581a9f2627c6b0895ced195466ad62'...\n",
            "remote: Enumerating objects: 11, done.\u001b[K\n",
            "remote: Counting objects:   9% (1/11)\u001b[K\rremote: Counting objects:  18% (2/11)\u001b[K\rremote: Counting objects:  27% (3/11)\u001b[K\rremote: Counting objects:  36% (4/11)\u001b[K\rremote: Counting objects:  45% (5/11)\u001b[K\rremote: Counting objects:  54% (6/11)\u001b[K\rremote: Counting objects:  63% (7/11)\u001b[K\rremote: Counting objects:  72% (8/11)\u001b[K\rremote: Counting objects:  81% (9/11)\u001b[K\rremote: Counting objects:  90% (10/11)\u001b[K\rremote: Counting objects: 100% (11/11)\u001b[K\rremote: Counting objects: 100% (11/11), done.\u001b[K\n",
            "remote: Compressing objects:  11% (1/9)\u001b[K\rremote: Compressing objects:  22% (2/9)\u001b[K\rremote: Compressing objects:  33% (3/9)\u001b[K\rremote: Compressing objects:  44% (4/9)\u001b[K\rremote: Compressing objects:  55% (5/9)\u001b[K\rremote: Compressing objects:  66% (6/9)\u001b[K\rremote: Compressing objects:  77% (7/9)\u001b[K\rremote: Compressing objects:  88% (8/9)\u001b[K\rremote: Compressing objects: 100% (9/9)\u001b[K\rremote: Compressing objects: 100% (9/9), done.\u001b[K\n",
            "remote: Total 11 (delta 1), reused 0 (delta 0), pack-reused 0\u001b[K\n",
            "Unpacking objects:   9% (1/11)   \rUnpacking objects:  18% (2/11)   \rUnpacking objects:  27% (3/11)   \rUnpacking objects:  36% (4/11)   \rUnpacking objects:  45% (5/11)   \rUnpacking objects:  54% (6/11)   \rUnpacking objects:  63% (7/11)   \rUnpacking objects:  72% (8/11)   \rUnpacking objects:  81% (9/11)   \rUnpacking objects:  90% (10/11)   \rUnpacking objects: 100% (11/11)   \rUnpacking objects: 100% (11/11), done.\n"
          ],
          "name": "stdout"
        }
      ]
    },
    {
      "cell_type": "code",
      "metadata": {
        "id": "aPyhU046A68L",
        "colab_type": "code",
        "colab": {}
      },
      "source": [
        "!mkdir static\n",
        "!mkdir static/css\n",
        "!mkdir templates"
      ],
      "execution_count": 0,
      "outputs": []
    },
    {
      "cell_type": "code",
      "metadata": {
        "id": "3TAWKhwV4K7b",
        "colab_type": "code",
        "colab": {}
      },
      "source": [
        "cp \"/content/c8581a9f2627c6b0895ced195466ad62/maincode.py\" \"/content/\""
      ],
      "execution_count": 0,
      "outputs": []
    },
    {
      "cell_type": "code",
      "metadata": {
        "id": "YF3vUjRV5lCk",
        "colab_type": "code",
        "colab": {}
      },
      "source": [
        "cp \"/content/c8581a9f2627c6b0895ced195466ad62/home.html\" \"/content/templates\""
      ],
      "execution_count": 0,
      "outputs": []
    },
    {
      "cell_type": "code",
      "metadata": {
        "id": "SyNCGKo75lPn",
        "colab_type": "code",
        "colab": {}
      },
      "source": [
        "cp \"/content/c8581a9f2627c6b0895ced195466ad62/a.html\" \"/content/templates\""
      ],
      "execution_count": 0,
      "outputs": []
    },
    {
      "cell_type": "code",
      "metadata": {
        "id": "caI6wEZl5lrF",
        "colab_type": "code",
        "colab": {}
      },
      "source": [
        "cp \"/content/c8581a9f2627c6b0895ced195466ad62/a.css\" \"/content/static/css\""
      ],
      "execution_count": 0,
      "outputs": []
    },
    {
      "cell_type": "code",
      "metadata": {
        "id": "OC3q-QZy6NMV",
        "colab_type": "code",
        "colab": {}
      },
      "source": [
        "cp \"/content/drive/My Drive/mainproject/glove.6B.100d.txt\" \"/content/\""
      ],
      "execution_count": 0,
      "outputs": []
    },
    {
      "cell_type": "code",
      "metadata": {
        "id": "dIH6fOVMJmtm",
        "colab_type": "code",
        "colab": {}
      },
      "source": [
        "#!wget http://nlp.stanford.edu/data/glove.6B.zip\n",
        "#!unzip glove.6B.zip\n",
        "#cp glove.6B.300d.txt temp"
      ],
      "execution_count": 0,
      "outputs": []
    },
    {
      "cell_type": "code",
      "metadata": {
        "id": "Sqn4uJSQla_n",
        "colab_type": "code",
        "outputId": "821b0646-8762-470d-c6fc-d0e6052e0bd9",
        "colab": {
          "base_uri": "https://localhost:8080/",
          "height": 1000
        }
      },
      "source": [
        "from flask_ngrok import run_with_ngrok\n",
        "import sys\n",
        "from flask import Flask, request, render_template\n",
        "import maincode as maincode\n",
        "from nltk.tokenize import sent_tokenize\n",
        "import spacy\n",
        "nlp = spacy.load('en_core_web_sm')\n",
        "app = Flask(__name__)\n",
        "run_with_ngrok(app) \n",
        "\n",
        "def retunVerb(inputString):\n",
        "  doc = nlp(inputString)\n",
        "  lis = []\n",
        "  se = []\n",
        "  indexCount = 0\n",
        "  for token in doc:\n",
        "    if(token.pos_ == 'VERB' and not(token.is_stop)):\n",
        "      se = [token.text,indexCount]\n",
        "      lis.append(se)\n",
        "    indexCount = indexCount + 1\n",
        "  return(lis)\n",
        "\n",
        "\n",
        "@app.route(\"/\")\n",
        "def home():\n",
        "\treturn render_template(\"a.html\")\n",
        "@app.route(\"/generateMCQ\", methods=[\"POST\"])\n",
        "def setee():\n",
        "  if request.method == \"POST\":\n",
        "    paragraph = request.form['para']\n",
        "    sentences = sent_tokenize(paragraph)\n",
        "    new_paragraph = []\n",
        "    for sentence in sentences:\n",
        "      verb = retunVerb(sentence)\n",
        "      if not verb:\n",
        "        pass\n",
        "      else:\n",
        "        new_paragraph.append(sentence)\n",
        "        \n",
        "    new_paragraph = \" \".join(new_paragraph)\n",
        "  a= maincode.returnAllQuestions(new_paragraph)\n",
        "  return render_template(\"home.html\",abc=a,length = len(a))\n",
        "if __name__ == \"__main__\":\n",
        "\tapp.run()"
      ],
      "execution_count": 14,
      "outputs": [
        {
          "output_type": "stream",
          "text": [
            "/usr/local/lib/python3.6/dist-packages/smart_open/smart_open_lib.py:253: UserWarning: This function is deprecated, use smart_open.open instead. See the migration notes for details: https://github.com/RaRe-Technologies/smart_open/blob/master/README.rst#migrating-to-the-new-open-function\n",
            "  'See the migration notes for details: %s' % _MIGRATION_NOTES_URL\n"
          ],
          "name": "stderr"
        },
        {
          "output_type": "stream",
          "text": [
            " * Serving Flask app \"__main__\" (lazy loading)\n",
            " * Environment: production\n",
            "\u001b[31m   WARNING: This is a development server. Do not use it in a production deployment.\u001b[0m\n",
            "\u001b[2m   Use a production WSGI server instead.\u001b[0m\n",
            " * Debug mode: off\n"
          ],
          "name": "stdout"
        },
        {
          "output_type": "stream",
          "text": [
            " * Running on http://127.0.0.1:5000/ (Press CTRL+C to quit)\n"
          ],
          "name": "stderr"
        },
        {
          "output_type": "stream",
          "text": [
            " * Running on http://f36fa6194c68.ngrok.io\n",
            " * Traffic stats available on http://127.0.0.1:4040\n"
          ],
          "name": "stdout"
        },
        {
          "output_type": "stream",
          "text": [
            "127.0.0.1 - - [05/Jun/2020 06:44:46] \"\u001b[37mGET / HTTP/1.1\u001b[0m\" 200 -\n",
            "127.0.0.1 - - [05/Jun/2020 06:44:49] \"\u001b[33mGET /favicon.ico HTTP/1.1\u001b[0m\" 404 -\n",
            "/usr/local/lib/python3.6/dist-packages/gensim/matutils.py:737: FutureWarning: Conversion of the second argument of issubdtype from `int` to `np.signedinteger` is deprecated. In future, it will be treated as `np.int64 == np.dtype(int).type`.\n",
            "  if np.issubdtype(vec.dtype, np.int):\n"
          ],
          "name": "stderr"
        },
        {
          "output_type": "stream",
          "text": [
            "\n",
            " 1  The painter Roy Lichtenstein .......... to define pop art—the movement that incorporated commonplace objects and commercial-art techniques into paintings—by paraphrasing the style of comic books in his work.\n",
            "a. help \n",
            "b. helping\n",
            "c. effort \n",
            "d. helped\n",
            "\n",
            " 2  His merger of a popular genre with the forms and intentions of fine art .......... a complex result: while poking fun at the pretensions of the art world, Lichtenstein’s work also managed to convey a seriousness of theme that enabled it to transcend mere parody.\n",
            "a. generate \n",
            "b. generates\n",
            "c. generating \n",
            "d. generated\n",
            "\n",
            " 3  That Lichtenstein’s images were fine art was at first difficult to see, because, with their word balloons and highly stylized figures, they .......... like nothing more than the comic book panels from which they were copied.\n",
            "a. stylised \n",
            "b. cartoonish\n",
            "c. whimsical \n",
            "d. stylized\n",
            "\n",
            " 4  Standard art history .......... that pop art emerged as an impersonal alternative to the histrionics of abstract expressionism, a movement in which painters conveyed their private attitudes and emotions using nonrepresentational techniques.\n",
            "a. hold \n",
            "b. takes\n",
            "c. holding \n",
            "d. holds\n",
            "\n",
            " 5  The truth is that by the time pop art first .......... in the early 1960s, abstract expressionism had already lost much of its force.\n",
            "a. appearing \n",
            "b. appear\n",
            "c. appears \n",
            "d. appeared\n",
            "\n",
            " 6  Pop art painters weren’t quarreling .......... the powerful early abstract expressionist work of the late 1940s but with a second generation of abstract expressionists whose work seemed airy, high-minded, and overly lyrical.\n",
            "a. quarrelling \n",
            "b. squabbling\n",
            "c. feuding \n",
            "d. quarreling\n",
            "\n",
            " 7  Lichtenstein’s work was part of a general rebellion against the fading .......... power of abstract expressionism, rather than an aloof attempt to ignore it.\n",
            "a. faded \n",
            "b. fade\n",
            "c. dimmed \n",
            "d. fading\n",
            "\n",
            " 8  But if rebellion against previous art by means of the careful imitation of a popular genre were all that .......... Lichtenstein’s work, it would possess only the reflective power that parodies have in relation to their subjects.\n",
            "a. characterised \n",
            "b. described\n",
            "c. termed \n",
            "d. characterized\n",
            "\n",
            " 9  Beneath its cartoonish methods, his work displayed .......... impulse toward realism, an urge to say that what was missing from contemporary painting was the depiction of contemporary life.\n",
            "a. display \n",
            "b. displaying\n",
            "c. displays \n",
            "d. displayed\n",
            "\n",
            " 10  The stilted romances and war stories .......... in the comic books on which he based his canvases, the stylized automobiles, hot dogs, and table lamps that appeared in his pictures, were reflections of the culture Lichtenstein inhabited.\n",
            "a. portraying \n",
            "b. portrays\n",
            "c. depicted \n",
            "d. portrayed\n"
          ],
          "name": "stdout"
        },
        {
          "output_type": "stream",
          "text": [
            "127.0.0.1 - - [05/Jun/2020 06:45:15] \"\u001b[37mPOST /generateMCQ HTTP/1.1\u001b[0m\" 200 -\n"
          ],
          "name": "stderr"
        },
        {
          "output_type": "stream",
          "text": [
            "\n",
            " 11  But, in contrast to some pop art, Lichtenstein’s work exuded not a .......... cynicism about consumer culture, but a kind of deliberate naiveté, intended as a response to the excess of sophistication he observed not only in the later abstract expressionists but in some other pop artists.\n",
            "a. exudes \n",
            "b. exuding\n",
            "c. exude \n",
            "d. exuded\n",
            "\n",
            " 12  With the comics—typically the domain of youth and innocence—as his reference point, a nostalgia fills his paintings that gives .......... for all their surface bravado, an inner sweetness.\n",
            "a. filling \n",
            "b. fill\n",
            "c. filled \n",
            "d. fills\n",
            "\n",
            " 13  His persistent use of comic-art conventions demonstrates a .......... in reconciliation, not only between cartoons and fine art, but between parody and true feeling.\n",
            "a. illustrates \n",
            "b. underscores\n",
            "c. proves \n",
            "d. demonstrates\n"
          ],
          "name": "stdout"
        },
        {
          "output_type": "stream",
          "text": [
            "127.0.0.1 - - [05/Jun/2020 06:46:24] \"\u001b[37mGET / HTTP/1.1\u001b[0m\" 200 -\n"
          ],
          "name": "stderr"
        },
        {
          "output_type": "stream",
          "text": [
            "\n",
            " 14  The painter Roy Lichtenstein .......... to define pop art—the movement that incorporated commonplace objects and commercial-art techniques into paintings—by paraphrasing the style of comic books in his work.\n",
            "a. help \n",
            "b. helping\n",
            "c. effort \n",
            "d. helped\n",
            "\n",
            " 15  His merger of a popular genre with the forms and intentions of fine art .......... a complex result: while poking fun at the pretensions of the art world, Lichtenstein’s work also managed to convey a seriousness of theme that enabled it to transcend mere parody.\n",
            "a. generate \n",
            "b. generates\n",
            "c. generating \n",
            "d. generated\n",
            "\n",
            " 16  That Lichtenstein’s images were fine art was at first difficult to see, because, with their word balloons and highly stylized figures, they .......... like nothing more than the comic book panels from which they were copied.\n",
            "a. stylised \n",
            "b. cartoonish\n",
            "c. whimsical \n",
            "d. stylized\n",
            "\n",
            " 17  Standard art history .......... that pop art emerged as an impersonal alternative to the histrionics of abstract expressionism, a movement in which painters conveyed their private attitudes and emotions using nonrepresentational techniques.\n",
            "a. hold \n",
            "b. takes\n",
            "c. holding \n",
            "d. holds\n",
            "\n",
            " 18  The truth is that by the time pop art first .......... in the early 1960s, abstract expressionism had already lost much of its force.\n",
            "a. appearing \n",
            "b. appear\n",
            "c. appears \n",
            "d. appeared\n",
            "\n",
            " 19  Pop art painters weren’t quarreling .......... the powerful early abstract expressionist work of the late 1940s but with a second generation of abstract expressionists whose work seemed airy, high-minded, and overly lyrical.\n",
            "a. quarrelling \n",
            "b. squabbling\n",
            "c. feuding \n",
            "d. quarreling\n",
            "\n",
            " 20  Lichtenstein’s work was part of a general rebellion against the fading .......... power of abstract expressionism, rather than an aloof attempt to ignore it.\n",
            "a. faded \n",
            "b. fade\n",
            "c. dimmed \n",
            "d. fading\n",
            "\n",
            " 21  But if rebellion against previous art by means of the careful imitation of a popular genre were all that .......... Lichtenstein’s work, it would possess only the reflective power that parodies have in relation to their subjects.\n",
            "a. characterised \n",
            "b. described\n",
            "c. termed \n",
            "d. characterized\n",
            "\n",
            " 22  Beneath its cartoonish methods, his work displayed .......... impulse toward realism, an urge to say that what was missing from contemporary painting was the depiction of contemporary life.\n",
            "a. display \n",
            "b. displaying\n",
            "c. displays \n",
            "d. displayed\n",
            "\n",
            " 23  The stilted romances and war stories .......... in the comic books on which he based his canvases, the stylized automobiles, hot dogs, and table lamps that appeared in his pictures, were reflections of the culture Lichtenstein inhabited.\n",
            "a. portraying \n",
            "b. portrays\n",
            "c. depicted \n",
            "d. portrayed\n"
          ],
          "name": "stdout"
        },
        {
          "output_type": "stream",
          "text": [
            "127.0.0.1 - - [05/Jun/2020 06:46:29] \"\u001b[37mPOST /generateMCQ HTTP/1.1\u001b[0m\" 200 -\n"
          ],
          "name": "stderr"
        },
        {
          "output_type": "stream",
          "text": [
            "\n",
            " 24  But, in contrast to some pop art, Lichtenstein’s work exuded not a .......... cynicism about consumer culture, but a kind of deliberate naiveté, intended as a response to the excess of sophistication he observed not only in the later abstract expressionists but in some other pop artists.\n",
            "a. exudes \n",
            "b. exuding\n",
            "c. exude \n",
            "d. exuded\n",
            "\n",
            " 25  With the comics—typically the domain of youth and innocence—as his reference point, a nostalgia fills his paintings that gives .......... for all their surface bravado, an inner sweetness.\n",
            "a. filling \n",
            "b. fill\n",
            "c. filled \n",
            "d. fills\n",
            "\n",
            " 26  His persistent use of comic-art conventions demonstrates a .......... in reconciliation, not only between cartoons and fine art, but between parody and true feeling.\n",
            "a. illustrates \n",
            "b. underscores\n",
            "c. proves \n",
            "d. demonstrates\n"
          ],
          "name": "stdout"
        }
      ]
    },
    {
      "cell_type": "code",
      "metadata": {
        "id": "ANVN-UvZ2d6X",
        "colab_type": "code",
        "colab": {}
      },
      "source": [
        ""
      ],
      "execution_count": 0,
      "outputs": []
    }
  ]
}